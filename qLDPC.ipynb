{
 "cells": [
  {
   "cell_type": "code",
   "execution_count": 5,
   "metadata": {},
   "outputs": [],
   "source": [
    "import numpy as np"
   ]
  },
  {
   "cell_type": "code",
   "execution_count": 6,
   "metadata": {},
   "outputs": [],
   "source": [
    "# r - received sequence, theta - threshold, H - parity-check matrix\n",
    "def STMDA(r,theta, H):\n",
    "    S = r @ H.T\n",
    "    b = 1 \n",
    "    while b == 1:\n",
    "        b = 0\n",
    "        for i in range(1,N):\n",
    "            for j in G(i):\n",
    "                pass\n",
    "            #A_max = \n",
    "            # a = len(A_max)\n",
    "            #m = A_max[0]\n",
    "            #z = number of zero\n",
    "            if a - z > theta:\n",
    "                r[i] += m\n",
    "                S = r @ H.T\n",
    "                b = 1\n",
    "    F = 1 \n",
    "    c = r \n",
    "    if wt(S) == 0:\n",
    "        F = 0\n",
    "    return c, F\n",
    "    \n",
    "        "
   ]
  },
  {
   "cell_type": "code",
   "execution_count": null,
   "metadata": {},
   "outputs": [],
   "source": []
  }
 ],
 "metadata": {
  "kernelspec": {
   "display_name": "Python 3",
   "language": "python",
   "name": "python3"
  },
  "language_info": {
   "codemirror_mode": {
    "name": "ipython",
    "version": 3
   },
   "file_extension": ".py",
   "mimetype": "text/x-python",
   "name": "python",
   "nbconvert_exporter": "python",
   "pygments_lexer": "ipython3",
   "version": "3.6.5"
  }
 },
 "nbformat": 4,
 "nbformat_minor": 2
}
