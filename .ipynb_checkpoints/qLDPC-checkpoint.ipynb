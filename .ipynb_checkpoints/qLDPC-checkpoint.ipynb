{
 "cells": [
  {
   "cell_type": "code",
   "execution_count": 69,
   "metadata": {},
   "outputs": [],
   "source": [
    "import numpy as np\n",
    "import random"
   ]
  },
  {
   "cell_type": "code",
   "execution_count": 196,
   "metadata": {},
   "outputs": [],
   "source": [
    "#finds G(i) for H (M*N) matrix, such as G(i) = {j: h_{j,i} != 0, 1 <= j <= M}\n",
    "def G(i,H):\n",
    "    return list(np.nonzero(H.T[i])[0])\n",
    "\n",
    "def egcd(n1, n2):\n",
    "    if n1 == 0:\n",
    "        return (n2, 0, 1)\n",
    "    else:\n",
    "        g, y, x = egcd(n2 % n1, n1)\n",
    "        return (g, x - (n2 // n1) * y, y)\n",
    "\n",
    "def inv(a, m):\n",
    "    g, x, y = egcd(a, m)\n",
    "    if g != 1:\n",
    "        raise Exception('Inv does not exist!')\n",
    "    else:\n",
    "        return x % m\n",
    "    \n",
    "def count_zeros(A):\n",
    "    itr = 0\n",
    "    for i in range(len(A)):\n",
    "        if A[i] == list(np.zeros(len(A[0]))):\n",
    "            itr += 1\n",
    "    return itr\n",
    "\n",
    "def count_sub(A):\n",
    "    answer = []\n",
    "    counts_prev = 0\n",
    "    b_prev = []\n",
    "    while A != []:\n",
    "        b = A[0]\n",
    "        counts = A.count(b)\n",
    "        while b in A:\n",
    "            A.remove(b)\n",
    "        if counts >= counts_prev:\n",
    "            b_prev = b\n",
    "            counts_prev = counts \n",
    "    return b_prev,counts_prev"
   ]
  },
  {
   "cell_type": "code",
   "execution_count": 198,
   "metadata": {},
   "outputs": [],
   "source": [
    "# r - received sequence, theta - threshold, H - parity-check matrix, q - GF(q)\n",
    "def STMDA(r,theta, H, q):\n",
    "    M,N = H.shape\n",
    "    S = r @ H.T\n",
    "    b = 1 \n",
    "    while b == 1:\n",
    "        b = 0\n",
    "        for i in range(1,N):\n",
    "            msg = []\n",
    "            for j in G(i,H):\n",
    "                msg.append(inv(H[i,j],q)*S[j])\n",
    "            z = count_zeros(msg)\n",
    "            m,a = count_sub(msg)\n",
    "            if a - z > theta:\n",
    "                r[i] += m\n",
    "                S = r @ H.T\n",
    "                b = 1\n",
    "    F = 1 \n",
    "    c = r \n",
    "    #if wt(S) == 0:\n",
    "    #    F = 0\n",
    "    return c, F\n",
    "    \n",
    "        "
   ]
  },
  {
   "cell_type": "code",
   "execution_count": 199,
   "metadata": {},
   "outputs": [
    {
     "data": {
      "text/plain": [
       "[[1, 1, 0], [2, 0, 2], [3, 3, 0], [0, 0, 0], [0, 0, 0], [3, 3, 0], [3, 3, 0]]"
      ]
     },
     "execution_count": 199,
     "metadata": {},
     "output_type": "execute_result"
    }
   ],
   "source": [
    "A = [[1,1,0],[2,0,2],[3,3,0], [0,0,0], [0,0,0], [3,3,0],[3,3,0]]\n",
    "A"
   ]
  },
  {
   "cell_type": "code",
   "execution_count": null,
   "metadata": {},
   "outputs": [],
   "source": []
  },
  {
   "cell_type": "code",
   "execution_count": 200,
   "metadata": {},
   "outputs": [
    {
     "data": {
      "text/plain": [
       "([3, 3, 0], 3)"
      ]
     },
     "execution_count": 200,
     "metadata": {},
     "output_type": "execute_result"
    }
   ],
   "source": [
    "count_sub(A)"
   ]
  },
  {
   "cell_type": "code",
   "execution_count": 78,
   "metadata": {},
   "outputs": [
    {
     "name": "stdout",
     "output_type": "stream",
     "text": [
      "1\n",
      "2\n",
      "3\n",
      "4\n"
     ]
    }
   ],
   "source": [
    "itr = 0\n",
    "for i in range(len(A)):\n",
    "    if A[i] == list(np.zeros(3)):\n",
    "        itr += 1\n",
    "        print(itr)"
   ]
  },
  {
   "cell_type": "code",
   "execution_count": 27,
   "metadata": {},
   "outputs": [
    {
     "data": {
      "text/plain": [
       "array([[1, 2, 3],\n",
       "       [1, 0, 3],\n",
       "       [0, 2, 0]])"
      ]
     },
     "execution_count": 27,
     "metadata": {},
     "output_type": "execute_result"
    }
   ],
   "source": [
    "A.T"
   ]
  },
  {
   "cell_type": "code",
   "execution_count": 33,
   "metadata": {},
   "outputs": [
    {
     "data": {
      "text/plain": [
       "[1]"
      ]
     },
     "execution_count": 33,
     "metadata": {},
     "output_type": "execute_result"
    }
   ],
   "source": [
    "list(np.nonzero(A.T[2])[0])"
   ]
  },
  {
   "cell_type": "code",
   "execution_count": null,
   "metadata": {},
   "outputs": [],
   "source": []
  }
 ],
 "metadata": {
  "kernelspec": {
   "display_name": "Python 3",
   "language": "python",
   "name": "python3"
  },
  "language_info": {
   "codemirror_mode": {
    "name": "ipython",
    "version": 3
   },
   "file_extension": ".py",
   "mimetype": "text/x-python",
   "name": "python",
   "nbconvert_exporter": "python",
   "pygments_lexer": "ipython3",
   "version": "3.6.5"
  }
 },
 "nbformat": 4,
 "nbformat_minor": 2
}
